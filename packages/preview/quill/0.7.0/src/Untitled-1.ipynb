{
 "cells": [
  {
   "cell_type": "code",
   "execution_count": null,
   "id": "c59fe36e",
   "metadata": {},
   "outputs": [],
   "source": []
  },
  {
   "cell_type": "code",
   "execution_count": 13,
   "id": "ac6d71a0",
   "metadata": {},
   "outputs": [
    {
     "name": "stdout",
     "output_type": "stream",
     "text": [
      "#import \"../../src/quill.typ\": quantum-circuit, tequila\n",
      "#quantum-circuit(\n",
      "  ..tequila.build(\n",
      "    n: 6,\n",
      "    import tequila: *,\n",
      "    h(0),\n",
      "    h(1),\n",
      "    cx(1, 0),\n",
      "    cx(1, 3),\n",
      "    measure(1, 4),\n",
      "    barrier(start: 0, end: 1),\n",
      "  )\n",
      ")\n"
     ]
    }
   ],
   "source": [
    "import qiskit\n",
    "qc = qiskit.QuantumCircuit(4, 2)\n",
    "\n",
    "supported_gates = [\"i\", \"h\", \"s\", \"sdg\"]\n",
    "def to_quill(qc: qiskit.QuantumCircuit):\n",
    "    nq = qc.num_qubits\n",
    "    ncl = qc.num_clbits\n",
    "\n",
    "    instructions = []\n",
    "    for gate in qc:\n",
    "        qubits = [qubit._index for qubit in gate.qubits]\n",
    "        clbits = [clbit._index for clbit in gate.clbits]\n",
    "        instructions.append([gate.name, qubits, clbits])\n",
    "\n",
    "    # print(\"#import \\\"@preview/quill:0.6.0\\\": quantum-circuit, tequila\")\n",
    "    print(\"#import \\\"../../src/quill.typ\\\": quantum-circuit, tequila\")\n",
    "    print(\"#quantum-circuit(\")\n",
    "    print(\"  ..tequila.build(\")\n",
    "    print(f\"    n: {nq + ncl},\")\n",
    "    print(\"    import tequila: *,\")\n",
    "    for name, qubits, clbits in instructions:\n",
    "        arg_str = \", \".join([str(qubit) for qubit in qubits])\n",
    "        if name == \"barrier\":\n",
    "            if qubits == [0, nq - 1]:\n",
    "                arg_str = \"\"\n",
    "            else:\n",
    "                arg_str = f\"start: {qubits[0]}, end: {qubits[1]}\"\n",
    "        if name == \"measure\":\n",
    "            arg_str += f\", {clbits[0] + nq}\"\n",
    "        \n",
    "        print(f\"    {name}({arg_str}),\")\n",
    "    print(\"  )\\n)\")\n",
    "\n",
    "qc.h([0,1])\n",
    "qc.cx(1, [0,3])\n",
    "qc.measure(1, 0)\n",
    "qc.barrier(0, 1)\n",
    "\n",
    "to_quill(qc)"
   ]
  },
  {
   "cell_type": "code",
   "execution_count": null,
   "id": "17adfd67",
   "metadata": {},
   "outputs": [],
   "source": []
  }
 ],
 "metadata": {
  "kernelspec": {
   "display_name": "Python 3",
   "language": "python",
   "name": "python3"
  },
  "language_info": {
   "codemirror_mode": {
    "name": "ipython",
    "version": 3
   },
   "file_extension": ".py",
   "mimetype": "text/x-python",
   "name": "python",
   "nbconvert_exporter": "python",
   "pygments_lexer": "ipython3",
   "version": "3.10.5"
  }
 },
 "nbformat": 4,
 "nbformat_minor": 5
}
